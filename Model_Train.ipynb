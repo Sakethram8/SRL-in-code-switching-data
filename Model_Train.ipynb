{
 "cells": [
  {
   "cell_type": "code",
   "execution_count": 1,
   "id": "20eac1e7",
   "metadata": {},
   "outputs": [
    {
     "name": "stdout",
     "output_type": "stream",
     "text": [
      "               tweet_id                                              tweet  \\\n",
      "0              tweet_id                                              tweet   \n",
      "1    837746741063593992  A good over by hasan ali but iska over bachana...   \n",
      "2    838703117810085888  Dogs are loyal, par un he se koi shadi nahi ka...   \n",
      "3    763674497933336576   Apny bachon ko sikhaon ga \"Grades don't matter.\"   \n",
      "4    748246556998959104         Highlight of the night\\nKe lights nai hai.   \n",
      "..                  ...                                                ...   \n",
      "739  838434401130278913        Current run rate dekh kar sharam a Rai hay!   \n",
      "740  838456430848061445                Pakistan ki khushi over everything    \n",
      "741  838717126277898240  One more day where I've decided, KAL SE PAKKA ...   \n",
      "742  842114263921614850  Sony se pehly apny favt songs ki lyrics post k...   \n",
      "743  842405293896134656  Mardam shumari mai double faced logo ka kya ho...   \n",
      "\n",
      "                                                tokens  \\\n",
      "0                                            ['tweet']   \n",
      "1    ['A', 'good', 'over', 'by', 'hasan', 'ali', 'b...   \n",
      "2    ['Dogs', 'are', 'loyal', ',', 'par', 'un', 'he...   \n",
      "3    ['Apny', 'bachon', 'ko', 'sikhaon', 'ga', '\"',...   \n",
      "4    ['Highlight', 'of', 'the', 'night', 'Ke', 'lig...   \n",
      "..                                                 ...   \n",
      "739  ['Current', 'run', 'rate', 'dekh', 'kar', 'sha...   \n",
      "740  ['Pakistan', 'ki', 'khushi', 'over', 'everythi...   \n",
      "741  ['One', 'more', 'day', 'where', 'I', \"'ve\", 'd...   \n",
      "742  ['Sony', 'se', 'pehly', 'apny', 'favt', 'songs...   \n",
      "743  ['Mardam', 'shumari', 'mai', 'double', 'faced'...   \n",
      "\n",
      "                                        semantic_roles  \\\n",
      "0                                                   []   \n",
      "1    ['_', '_', 'ARG1', '_', '_', 'ARG3', '_', '_',...   \n",
      "2    ['ARG1', '_', 'ARG2_ATTR', '_', '_', 'ARGM_MNR...   \n",
      "3    ['_', '_', 'ARG2', '_', '_', '_', 'ARG1', '_',...   \n",
      "4    ['_', '_', '_', '_', '_', '_', 'ARG1', 'ARGM_N...   \n",
      "..                                                 ...   \n",
      "739  ['_', '_', 'ARG1', '_', '_', 'ARGM_PRX', '_', ...   \n",
      "740                ['_', '_', '_', '_', '_', '_', '_']   \n",
      "741  ['_', '_', 'ARGM_TMP', 'ARGM_MNR', 'ARG0', '_'...   \n",
      "742  ['ARGM_TMP', '_', '_', '_', '_', '_', '_', 'AR...   \n",
      "743  ['_', 'ARGM_LOC', '_', '_', '_', 'ARG1', '_', ...   \n",
      "\n",
      "                                          language_ids  \\\n",
      "0                                                   []   \n",
      "1    ['en', 'en', 'en', 'en', 'ne', 'ne', 'NULL', '...   \n",
      "2    ['en', 'en', 'en', 'univ', 'hi', 'hi', 'hi', '...   \n",
      "3    ['univ', 'hi', 'hi', 'hi', 'hi', 'univ', 'en',...   \n",
      "4    ['univ', 'en', 'en', 'en', 'en', 'hi', 'en', '...   \n",
      "..                                                 ...   \n",
      "739  ['en', 'en', 'en', 'hi', 'hi', 'hi', 'hi', 'ne...   \n",
      "740     ['ne', 'hi', 'hi', 'NULL', 'en', 'en', 'univ']   \n",
      "741  ['en', 'en', 'en', 'en', 'en', 'en', 'en', 'un...   \n",
      "742  ['hi', 'hi', 'hi', 'hi', 'en', 'en', 'hi', 'en...   \n",
      "743  ['ne', 'ne', 'hi', 'en', 'en', 'hi', 'hi', 'hi...   \n",
      "\n",
      "                                              pos_tags  \n",
      "0                                                   []  \n",
      "1    ['DET', 'JJ', 'NN', 'PSP', 'NNPC', 'NNP', 'VM'...  \n",
      "2    ['NN', 'VM', 'JJ', 'PUNC', 'CC', 'PRP', 'PSP',...  \n",
      "3    ['PUNC', 'PRP', 'NN', 'PSP', 'VM', 'PUNC', 'NN...  \n",
      "4    ['PUNC', 'NN', 'PSP', 'DET', 'NN', 'CC', 'NN',...  \n",
      "..                                                 ...  \n",
      "739  ['JJ', 'NNC', 'NN', 'VM', 'VAUX', 'NN', 'VM', ...  \n",
      "740  ['NNP', 'PSP', 'NN', 'CC_CCD', 'PSP', 'NN', 'S...  \n",
      "741  ['QC', 'JJ', 'NN', 'RB', 'PRP', 'VAUX', 'VM', ...  \n",
      "742  ['VM', 'PSP', 'NST', 'PRP', 'JJ', 'NN', 'PSP',...  \n",
      "743  ['NNPC', 'NNP', 'PSP', 'JJC', 'JJ', 'NN', 'PSP...  \n",
      "\n",
      "[744 rows x 6 columns]\n"
     ]
    }
   ],
   "source": [
    "import pandas as pd\n",
    "\n",
    "# Load your CSV file into a DataFrame\n",
    "df = pd.read_csv(r\"C:\\Users\\bpsad\\Desktop\\AIML_SRL\\AIML _NLP_PROJECT\\output_sem_role_zr1.csv\")\n",
    "\n",
    "# Display the first few rows of the DataFrame\n",
    "print(df)\n",
    "\n",
    "\n"
   ]
  },
  {
   "cell_type": "code",
   "execution_count": 2,
   "id": "4f4470d5",
   "metadata": {},
   "outputs": [
    {
     "name": "stdout",
     "output_type": "stream",
     "text": [
      "tweet_id          0\n",
      "tweet             0\n",
      "tokens            0\n",
      "semantic_roles    0\n",
      "language_ids      0\n",
      "pos_tags          0\n",
      "dtype: int64\n"
     ]
    }
   ],
   "source": [
    "# Check for missing values\n",
    "print(df.isnull().sum())\n",
    "\n",
    "# Drop irrelevant columns\n",
    "df = df[['tweet_id', 'semantic_roles', 'tweet','tokens','language_ids','pos_tags' ]]\n",
    "# Assuming 'Semantic_Role' is a string representation of a list, for example: \"['ARG1', '_', 'ARG2']\"\n",
    "df['semantic_roles'] = df['semantic_roles'].apply(eval)\n",
    "\n"
   ]
  },
  {
   "cell_type": "code",
   "execution_count": 3,
   "id": "5e6174ee",
   "metadata": {},
   "outputs": [],
   "source": [
    "from sklearn.model_selection import train_test_split\n",
    "\n",
    "train_df, temp_df = train_test_split(df, test_size=0.2, random_state=42)\n",
    "validation_df, test_df = train_test_split(temp_df, test_size=0.5, random_state=42)\n"
   ]
  },
  {
   "cell_type": "code",
   "execution_count": 5,
   "id": "df2b3b39",
   "metadata": {},
   "outputs": [
    {
     "data": {
      "image/png": "[encoded data removed]",
      "text/plain": [
       "<Figure size 640x480 with 1 Axes>"
      ]
     },
     "metadata": {},
     "output_type": "display_data"
    }
   ],
   "source": [
    "import matplotlib.pyplot as plt\n",
    "\n",
    "# Visualize the distribution of token lengths in your dataset\n",
    "token_lengths = [len(tokenizer.encode(text)) for text in df['tweet']]\n",
    "plt.hist(token_lengths, bins=30)\n",
    "plt.title('Distribution of Token Lengths')\n",
    "plt.xlabel('Token Length')\n",
    "plt.ylabel('Frequency')\n",
    "plt.show()\n",
    "\n",
    "# Choose MAX_LENGTH based on the visualization and your computational resources\n",
    "MAX_LENGTH = 128  # Adjust this value based on your analysis\n"
   ]
  },
  {
   "cell_type": "code",
   "execution_count": 4,
   "id": "9afaaf6d",
   "metadata": {},
   "outputs": [],
   "source": [
    "from transformers import BertTokenizer\n",
    "\n",
    "tokenizer = BertTokenizer.from_pretrained('l3cube-pune/hing-mbert')\n",
    "PAD_TOKEN_ID = tokenizer.pad_token_id\n",
    "\n",
    "\n",
    "def tokenize_text(text):\n",
    "    return tokenizer.encode_plus(\n",
    "        text,\n",
    "        max_length=25,  # Define your maximum sequence length\n",
    "        truncation=True,\n",
    "        padding='max_length',\n",
    "        return_tensors='pt',\n",
    "    )\n",
    "\n",
    "train_tokens = [tokenize_text(text) for text in train_df['tweet']]\n",
    "validation_tokens = [tokenize_text(text) for text in validation_df['tweet']]\n",
    "test_tokens = [tokenize_text(text) for text in test_df['tweet']]\n",
    "\n",
    "\n"
   ]
  },
  {
   "cell_type": "code",
   "execution_count": 6,
   "id": "8714bdb4",
   "metadata": {},
   "outputs": [
    {
     "name": "stdout",
     "output_type": "stream",
     "text": [
      "Length of self.semantic_roles: 595\n",
      "Range of indices: range(0, 595)\n",
      "Length of self.semantic_roles: 74\n",
      "Range of indices: range(0, 74)\n",
      "Length of self.semantic_roles: 75\n",
      "Range of indices: range(0, 75)\n"
     ]
    }
   ],
   "source": [
    "import torch\n",
    "import torch.nn.utils.rnn as rnn_utils\n",
    "from torch.nn.utils.rnn import pad_sequence\n",
    "from torch.utils.data import Dataset\n",
    "from sklearn.preprocessing import LabelEncoder\n",
    "from torch.utils.data import DataLoader\n",
    "\n",
    "class SRLDataset(Dataset):\n",
    "    def __init__(self, tokens, semantic_roles):\n",
    "        self.tokens = tokens\n",
    "        self.semantic_roles = semantic_roles\n",
    "        self.label_encoder = LabelEncoder()\n",
    "        print(\"Length of self.semantic_roles:\", len(self.semantic_roles))\n",
    "        print(\"Range of indices:\", range(len(self.semantic_roles)))\n",
    "\n",
    "    def __len__(self):\n",
    "        return len(self.tokens)\n",
    "\n",
    "    def __getitem__(self, idx):\n",
    "        input_ids = self.tokens[idx]['input_ids']\n",
    "        attention_mask = self.tokens[idx]['attention_mask']\n",
    "\n",
    "        # Check if idx is within the valid range of indices\n",
    "        if 0 <= idx < len(self.semantic_roles):\n",
    "            semantic_roles = self.semantic_roles[idx]\n",
    "            # Tokenize input features\n",
    "            # Convert labels to numerical format using label encoding\n",
    "            encoded_roles = self.label_encoder.fit_transform(semantic_roles)\n",
    "\n",
    "            # Determine the maximum sequence length in the batch\n",
    "            max_len = max(len(ids) for ids in input_ids)\n",
    "\n",
    "            # Pad 'input_ids' and 'attention_mask' for the entire batch\n",
    "            input_ids = pad_sequence(input_ids, batch_first=True, padding_value=0)\n",
    "            attention_mask = pad_sequence(attention_mask, batch_first=True, padding_value=0)\n",
    "\n",
    "            # Pad or truncate 'input_ids' and 'attention_mask' to have the same length\n",
    "            input_ids = input_ids[:, :max_len]\n",
    "            attention_mask = attention_mask[:, :max_len]\n",
    "\n",
    "            return {\n",
    "                'input_ids': input_ids,\n",
    "                'attention_mask': attention_mask,\n",
    "                'semantic_roles': torch.tensor(encoded_roles, dtype=torch.long)\n",
    "            }\n",
    "        else:\n",
    "            # Handle the case where idx is out of range\n",
    "            raise IndexError(f\"Index {idx} is out of range for semantic_roles list.\")\n",
    "\n",
    "            \n",
    "import torch.nn.functional as F\n",
    "\n",
    "\n",
    "import torch.nn.functional as F\n",
    "\n",
    "def collate_fn(batch):\n",
    "    sequences = [item['input_ids'] for item in batch]\n",
    "    attention_masks = [item['attention_mask'] for item in batch]\n",
    "    labels = [item['semantic_roles'] for item in batch]\n",
    "\n",
    "    # Find the maximum length in the batch\n",
    "    max_len = max(len(seq[0]) for seq in sequences)\n",
    "\n",
    "    # Ensure the batch size remains consistent\n",
    "    batch_size = len(batch)\n",
    "\n",
    "    # Pad sequences and labels to the maximum length\n",
    "    padded_sequences = rnn_utils.pad_sequence([seq[0] for seq in sequences], batch_first=True, padding_value=PAD_TOKEN_ID)\n",
    "    padded_attention_masks = rnn_utils.pad_sequence(attention_masks, batch_first=True, padding_value=0)\n",
    "\n",
    "    # Truncate or pad labels to the maximum length\n",
    "    padded_labels = [F.pad(label, (0, max_len - len(label)), value=-100) for label in labels]\n",
    "\n",
    "    # Stack labels\n",
    "    stacked_labels = torch.stack(padded_labels, dim=0)\n",
    "\n",
    "    return {\n",
    "        'input_ids': padded_sequences,\n",
    "        'attention_mask': padded_attention_masks,\n",
    "        'semantic_roles': stacked_labels\n",
    "    }\n",
    "\n",
    "\n",
    "\n",
    "\n",
    "\n",
    "\n",
    "\n",
    "BATCH_SIZE = 16\n",
    "\n",
    "# Create datasets and data loaders with collate_fn\n",
    "train_dataset = SRLDataset(train_tokens, train_df['semantic_roles'])\n",
    "train_loader = DataLoader(train_dataset, batch_size=BATCH_SIZE, shuffle=True, collate_fn=collate_fn)\n",
    "\n",
    "validation_dataset = SRLDataset(validation_tokens, validation_df['semantic_roles'])\n",
    "validation_loader = DataLoader(validation_dataset, batch_size=BATCH_SIZE, shuffle=False, collate_fn=collate_fn)\n",
    "\n",
    "test_dataset = SRLDataset(test_tokens, test_df['semantic_roles'])\n",
    "test_loader = DataLoader(test_dataset, batch_size=BATCH_SIZE, shuffle=False, collate_fn=collate_fn)\n",
    "\n",
    "\n"
   ]
  },
  {
   "cell_type": "code",
   "execution_count": 7,
   "id": "71a0ea49",
   "metadata": {},
   "outputs": [],
   "source": [
    "# Assuming your 'Semantic_Role' column is already converted to lists\n",
    "unique_labels = set(label for labels in df['semantic_roles'] for label in labels)\n",
    "num_labels = len(unique_labels)\n"
   ]
  },
  {
   "cell_type": "code",
   "execution_count": 8,
   "id": "d6f2c820",
   "metadata": {},
   "outputs": [
    {
     "name": "stdout",
     "output_type": "stream",
     "text": [
      "25\n"
     ]
    }
   ],
   "source": [
    "print(num_labels)"
   ]
  },
  {
   "cell_type": "code",
   "execution_count": 9,
   "id": "bda08503",
   "metadata": {},
   "outputs": [
    {
     "name": "stdout",
     "output_type": "stream",
     "text": [
      "{'ARGM_MNR', 'ARGM_DIS', 'ARG1', 'ARG0', 'ARGM_NEG', 'ARG2_ATTr', 'ARG2_ATTRas', 'ARG2_SO', 'ARG2_SOU', 'ARGM_CAU', '_', 'ARGM_DIR', 'ARG3', 'ARG2_GOL', 'ARG2_LOC', 'ARG2', 'ARGM_EXT', 'ARGM_ADV', 'ARG2_ATTR', 'ARG2_CAU', 'ARG2_MNR', 'ARGM_PRP', 'ARGM_TMP', 'ARGM_PRX', 'ARGM_LOC'}\n"
     ]
    }
   ],
   "source": [
    "# Assuming 'Semantic_Role' column is already converted to lists\n",
    "unique_labels = set(label for labels in df['semantic_roles'] for label in labels)\n",
    "print(unique_labels)\n"
   ]
  },
  {
   "cell_type": "code",
   "execution_count": 10,
   "id": "4023beef",
   "metadata": {},
   "outputs": [
    {
     "name": "stdout",
     "output_type": "stream",
     "text": [
      "Original Labels: ['ARGM_DIR', 'ARGM_ADV', 'ARG2_ATTR', 'ARG3', 'ARGM_CAU', 'ARG1', 'ARG2_SOU', 'ARGM_TMP', 'ARG2_LOC', 'ARG0', 'ARGM_MNR', 'ARGM_NEG', 'ARG2_CAU', 'ARG2', 'ARG2_MNR', 'ARGM_PRP', 'ARGM_LOC', 'ARG2_GOL', 'ARG2_ATTr', 'ARGM_DIS', 'ARGM_EXT', '_', 'ARGM_PRX', 'ARG2_ATTRas']\n",
      "Encoded Labels: [14 12  3 11 13  1 10 22  8  0 18 19  6  2  9 20 17  7  5 15 16 23 21  4]\n",
      "Decoded Labels: ['ARGM_DIR' 'ARGM_ADV' 'ARG2_ATTR' 'ARG3' 'ARGM_CAU' 'ARG1' 'ARG2_SOU'\n",
      " 'ARGM_TMP' 'ARG2_LOC' 'ARG0' 'ARGM_MNR' 'ARGM_NEG' 'ARG2_CAU' 'ARG2'\n",
      " 'ARG2_MNR' 'ARGM_PRP' 'ARGM_LOC' 'ARG2_GOL' 'ARG2_ATTr' 'ARGM_DIS'\n",
      " 'ARGM_EXT' '_' 'ARGM_PRX' 'ARG2_ATTRas']\n"
     ]
    }
   ],
   "source": [
    "labels = list(unique_labels)\n",
    "label_to_index = {label: i for i, label in enumerate(labels)}\n",
    "index_to_label = {i: label for i, label in enumerate(labels)}\n",
    "\n",
    "num_labels = len(labels)\n",
    "from sklearn.preprocessing import LabelEncoder\n",
    "\n",
    "# Example labels\n",
    "semantic_roles = ['ARGM_DIR', 'ARGM_ADV', 'ARG2_ATTR', 'ARG3', 'ARGM_CAU', 'ARG1', 'ARG2_SOU', 'ARGM_TMP', 'ARG2_LOC', 'ARG0', 'ARGM_MNR', 'ARGM_NEG', 'ARG2_CAU', 'ARG2', 'ARG2_MNR', 'ARGM_PRP', 'ARGM_LOC', 'ARG2_GOL', 'ARG2_ATTr', 'ARGM_DIS', 'ARGM_EXT', '_', 'ARGM_PRX', 'ARG2_ATTRas']\n",
    "\n",
    "# Initialize LabelEncoder\n",
    "label_encoder = LabelEncoder()\n",
    "\n",
    "# Fit and transform the labels\n",
    "encoded_roles = label_encoder.fit_transform(semantic_roles)\n",
    "\n",
    "print(\"Original Labels:\", semantic_roles)\n",
    "print(\"Encoded Labels:\", encoded_roles)\n",
    "\n",
    "# To inverse transform back to original labels\n",
    "decoded_roles = label_encoder.inverse_transform(encoded_roles)\n",
    "print(\"Decoded Labels:\", decoded_roles)"
   ]
  },
  {
   "cell_type": "code",
   "execution_count": 11,
   "id": "b278e607",
   "metadata": {
    "scrolled": true
   },
   "outputs": [
    {
     "name": "stderr",
     "output_type": "stream",
     "text": [
      "C:\\Anaconda\\Lib\\site-packages\\transformers\\utils\\generic.py:260: UserWarning: torch.utils._pytree._register_pytree_node is deprecated. Please use torch.utils._pytree.register_pytree_node instead.\n",
      "  torch.utils._pytree._register_pytree_node(\n",
      "C:\\Anaconda\\Lib\\site-packages\\transformers\\utils\\generic.py:260: UserWarning: torch.utils._pytree._register_pytree_node is deprecated. Please use torch.utils._pytree.register_pytree_node instead.\n",
      "  torch.utils._pytree._register_pytree_node(\n"
     ]
    },
    {
     "name": "stdout",
     "output_type": "stream",
     "text": [
      "WARNING:tensorflow:From C:\\Anaconda\\Lib\\site-packages\\keras\\src\\losses.py:2976: The name tf.losses.sparse_softmax_cross_entropy is deprecated. Please use tf.compat.v1.losses.sparse_softmax_cross_entropy instead.\n",
      "\n"
     ]
    },
    {
     "name": "stderr",
     "output_type": "stream",
     "text": [
      "Some weights of BertForTokenClassification were not initialized from the model checkpoint at l3cube-pune/hing-mbert and are newly initialized: ['classifier.bias', 'classifier.weight']\n",
      "You should probably TRAIN this model on a down-stream task to be able to use it for predictions and inference.\n",
      "C:\\Anaconda\\Lib\\site-packages\\transformers\\optimization.py:411: FutureWarning: This implementation of AdamW is deprecated and will be removed in a future version. Use the PyTorch implementation torch.optim.AdamW instead, or set `no_deprecation_warning=True` to disable this warning\n",
      "  warnings.warn(\n"
     ]
    },
    {
     "name": "stdout",
     "output_type": "stream",
     "text": [
      "Fold 1/5\n",
      "Length of self.semantic_roles: 476\n",
      "Range of indices: range(0, 476)\n",
      "Length of self.semantic_roles: 476\n",
      "Range of indices: range(0, 476)\n",
      "Epoch 1, Validation Accuracy: 0.8171428571428572\n",
      "Epoch 2, Validation Accuracy: 0.8430252100840336\n",
      "Epoch 3, Validation Accuracy: 0.8766386554621849\n",
      "Epoch 4, Validation Accuracy: 0.8847058823529412\n",
      "Epoch 5, Validation Accuracy: 0.879327731092437\n",
      "Fold 2/5\n",
      "Length of self.semantic_roles: 476\n",
      "Range of indices: range(0, 476)\n",
      "Length of self.semantic_roles: 476\n",
      "Range of indices: range(0, 476)\n",
      "Epoch 1, Validation Accuracy: 0.8715966386554622\n",
      "Epoch 2, Validation Accuracy: 0.8826890756302521\n",
      "Epoch 3, Validation Accuracy: 0.8692436974789916\n",
      "Epoch 4, Validation Accuracy: 0.8709243697478991\n",
      "Epoch 5, Validation Accuracy: 0.8742857142857143\n",
      "Fold 3/5\n",
      "Length of self.semantic_roles: 476\n",
      "Range of indices: range(0, 476)\n",
      "Length of self.semantic_roles: 476\n",
      "Range of indices: range(0, 476)\n",
      "Epoch 1, Validation Accuracy: 0.853781512605042\n",
      "Epoch 2, Validation Accuracy: 0.8578151260504202\n",
      "Epoch 3, Validation Accuracy: 0.8554621848739495\n",
      "Epoch 4, Validation Accuracy: 0.8527731092436974\n",
      "Epoch 5, Validation Accuracy: 0.8547899159663865\n",
      "Fold 4/5\n",
      "Length of self.semantic_roles: 476\n",
      "Range of indices: range(0, 476)\n",
      "Length of self.semantic_roles: 476\n",
      "Range of indices: range(0, 476)\n",
      "Epoch 1, Validation Accuracy: 0.8581512605042017\n",
      "Epoch 2, Validation Accuracy: 0.8611764705882353\n",
      "Epoch 3, Validation Accuracy: 0.8594957983193278\n",
      "Epoch 4, Validation Accuracy: 0.8494117647058823\n",
      "Epoch 5, Validation Accuracy: 0.8534453781512605\n",
      "Fold 5/5\n",
      "Length of self.semantic_roles: 476\n",
      "Range of indices: range(0, 476)\n",
      "Length of self.semantic_roles: 476\n",
      "Range of indices: range(0, 476)\n",
      "Epoch 1, Validation Accuracy: 0.8460504201680672\n",
      "Epoch 2, Validation Accuracy: 0.8484033613445379\n",
      "Epoch 3, Validation Accuracy: 0.8484033613445379\n",
      "Epoch 4, Validation Accuracy: 0.8447058823529412\n",
      "Epoch 5, Validation Accuracy: 0.8463865546218488\n",
      "Model trained\n"
     ]
    }
   ],
   "source": [
    "from transformers import BertForTokenClassification, AdamW\n",
    "from torch.nn.utils import clip_grad_norm_\n",
    "from sklearn.model_selection import StratifiedKFold\n",
    "from sklearn.metrics import accuracy_score\n",
    "from transformers import BertTokenizer, BertForTokenClassification, AdamW\n",
    "from torch.nn.utils import clip_grad_norm_\n",
    "from torch.utils.data import DataLoader\n",
    "from sklearn.preprocessing import LabelEncoder\n",
    "import torch\n",
    "import torch.nn.functional as F\n",
    "from torch.nn.utils.rnn import pad_sequence\n",
    "from torch.utils.data import Dataset\n",
    "from transformers import BertForTokenClassification\n",
    "from sklearn.preprocessing import MultiLabelBinarizer\n",
    "from sklearn.model_selection import KFold\n",
    "\n",
    "# Number of folds\n",
    "k_folds = 5\n",
    "kf = KFold(n_splits=k_folds, shuffle=True, random_state=42)\n",
    "\n",
    "# Convert 'semantic_roles' to a binary array\n",
    "mlb = MultiLabelBinarizer()\n",
    "binary_labels = mlb.fit_transform(train_df['semantic_roles'])\n",
    "\n",
    "\n",
    "model = BertForTokenClassification.from_pretrained('l3cube-pune/hing-mbert', num_labels=num_labels)\n",
    "LEARNING_RATE = 2e-5\n",
    "NUM_EPOCHS = 5\n",
    "optimizer = AdamW(model.parameters(), lr=LEARNING_RATE)\n",
    "\n",
    "for fold, (train_index, val_index) in enumerate(kf.split(train_tokens, binary_labels)):\n",
    "    print(f\"Fold {fold + 1}/{k_folds}\")\n",
    "\n",
    "    # Split the data into train and validation sets for this fold\n",
    "    train_fold_tokens = [train_tokens[i] for i in train_index]\n",
    "    train_fold_labels = [binary_labels[i] for i in train_index]\n",
    "\n",
    "    val_fold_tokens = [train_tokens[i] for i in val_index]\n",
    "    val_fold_labels = [binary_labels[i] for i in train_index]\n",
    "\n",
    "    # Create datasets and data loaders for this fold\n",
    "    train_fold_dataset = SRLDataset(train_fold_tokens, train_fold_labels)\n",
    "    val_fold_dataset = SRLDataset(val_fold_tokens, val_fold_labels)\n",
    "\n",
    "    train_fold_loader = DataLoader(train_fold_dataset, batch_size=BATCH_SIZE, shuffle=True, collate_fn=collate_fn)\n",
    "    val_fold_loader = DataLoader(val_fold_dataset, batch_size=BATCH_SIZE, shuffle=False, collate_fn=collate_fn)\n",
    "\n",
    "    # Train the model for NUM_EPOCHS\n",
    "    for epoch in range(NUM_EPOCHS):\n",
    "        model.train()\n",
    "        for batch_idx, batch in enumerate(train_fold_loader):\n",
    "            inputs = batch['input_ids']\n",
    "            attention_mask = batch['attention_mask']\n",
    "            labels = batch['semantic_roles']\n",
    "\n",
    "            optimizer.zero_grad()\n",
    "\n",
    "            outputs = model(input_ids=inputs.squeeze(1), attention_mask=attention_mask, labels=labels)\n",
    "            loss = outputs.loss\n",
    "            loss.backward()\n",
    "\n",
    "            # Gradient clipping\n",
    "            clip_grad_norm_(model.parameters(), 1.0)\n",
    "\n",
    "            optimizer.step()\n",
    "\n",
    "        # Evaluate on the validation set after each epoch\n",
    "        model.eval()\n",
    "        val_predictions = []\n",
    "        val_true_labels = []\n",
    "\n",
    "        with torch.no_grad():\n",
    "            for val_batch in val_fold_loader:\n",
    "                val_inputs = val_batch['input_ids']\n",
    "                val_attention_mask = val_batch['attention_mask']\n",
    "                val_labels = val_batch['semantic_roles']\n",
    "\n",
    "                val_outputs = model(input_ids=val_inputs.squeeze(1), attention_mask=val_attention_mask)\n",
    "                logits = val_outputs.logits\n",
    "\n",
    "                # Convert logits to predictions\n",
    "                predictions = torch.argmax(F.log_softmax(logits, dim=2), dim=2)\n",
    "\n",
    "                val_predictions.extend(predictions.tolist())\n",
    "                val_true_labels.extend(val_labels.tolist())\n",
    "\n",
    "        # Flatten the predictions and true labels for evaluation\n",
    "        flat_val_predictions = [label for sublist in val_predictions for label in sublist]\n",
    "        flat_val_true_labels = [label for sublist in val_true_labels for label in sublist]\n",
    "\n",
    "        val_accuracy = accuracy_score(flat_val_true_labels, flat_val_predictions)\n",
    "        print(f\"Epoch {epoch + 1}, Validation Accuracy: {val_accuracy}\")\n",
    "\n",
    "# Save the trained model\n",
    "model.save_pretrained(r\"C:\\Users\\bpsad\\Desktop\\TRAIN_DATA_PULLED\")\n",
    "print(\"Model trained\")\n",
    "\n",
    "\n"
   ]
  },
  {
   "cell_type": "markdown",
   "id": "6092cf35",
   "metadata": {},
   "source": [
    "# XLM RoBERTa Base"
   ]
  },
  {
   "cell_type": "code",
   "execution_count": 13,
   "id": "639719b6",
   "metadata": {},
   "outputs": [
    {
     "data": {
      "application/vnd.jupyter.widget-view+json": {
       "model_id": "89734dc5b2c44a4a9d67b347e5c7838f",
       "version_major": 2,
       "version_minor": 0
      },
      "text/plain": [
       "Downloading tokenizer_config.json:   0%|          | 0.00/25.0 [00:00<?, ?B/s]"
      ]
     },
     "metadata": {},
     "output_type": "display_data"
    },
    {
     "name": "stderr",
     "output_type": "stream",
     "text": [
      "C:\\Anaconda\\Lib\\site-packages\\huggingface_hub\\file_download.py:133: UserWarning: `huggingface_hub` cache-system uses symlinks by default to efficiently store duplicated files but your machine does not support them in C:\\Users\\bpsad\\.cache\\huggingface\\hub. Caching files will still work but in a degraded version that might require more space on your disk. This warning can be disabled by setting the `HF_HUB_DISABLE_SYMLINKS_WARNING` environment variable. For more details, see https://huggingface.co/docs/huggingface_hub/how-to-cache#limitations.\n",
      "To support symlinks on Windows, you either need to activate Developer Mode or to run Python as an administrator. In order to see activate developer mode, see this article: https://docs.microsoft.com/en-us/windows/apps/get-started/enable-your-device-for-development\n",
      "  warnings.warn(message)\n"
     ]
    },
    {
     "data": {
      "application/vnd.jupyter.widget-view+json": {
       "model_id": "9e0d25f1b5c8494d8fa0eceed74d461c",
       "version_major": 2,
       "version_minor": 0
      },
      "text/plain": [
       "Downloading config.json:   0%|          | 0.00/615 [00:00<?, ?B/s]"
      ]
     },
     "metadata": {},
     "output_type": "display_data"
    },
    {
     "data": {
      "application/vnd.jupyter.widget-view+json": {
       "model_id": "ef709e2277a542d0b8de842ff04e1c7a",
       "version_major": 2,
       "version_minor": 0
      },
      "text/plain": [
       "Downloading (…)tencepiece.bpe.model:   0%|          | 0.00/5.07M [00:00<?, ?B/s]"
      ]
     },
     "metadata": {},
     "output_type": "display_data"
    },
    {
     "data": {
      "application/vnd.jupyter.widget-view+json": {
       "model_id": "ebdb77701d474c4db3010428a01fc217",
       "version_major": 2,
       "version_minor": 0
      },
      "text/plain": [
       "Downloading tokenizer.json:   0%|          | 0.00/9.10M [00:00<?, ?B/s]"
      ]
     },
     "metadata": {},
     "output_type": "display_data"
    }
   ],
   "source": [
    "# Load model directly\n",
    "from transformers import AutoTokenizer, AutoModelForMaskedLM\n",
    "\n",
    "tokenizer = AutoTokenizer.from_pretrained(\"FacebookAI/xlm-roberta-base\")\n",
    "\n",
    "PAD_TOKEN_ID = tokenizer.pad_token_id\n",
    "\n",
    "\n",
    "def tokenize_text(text):\n",
    "    return tokenizer.encode_plus(\n",
    "        text,\n",
    "        max_length=25,  # Define your maximum sequence length\n",
    "        truncation=True,\n",
    "        padding='max_length',\n",
    "        return_tensors='pt',\n",
    "    )\n",
    "\n",
    "train_tokens = [tokenize_text(text) for text in train_df['tweet']]\n",
    "validation_tokens = [tokenize_text(text) for text in validation_df['tweet']]\n",
    "test_tokens = [tokenize_text(text) for text in test_df['tweet']]"
   ]
  },
  {
   "cell_type": "code",
   "execution_count": 14,
   "id": "9d231f44",
   "metadata": {},
   "outputs": [
    {
     "data": {
      "application/vnd.jupyter.widget-view+json": {
       "model_id": "b9ac3895db1142bfb812956779d69611",
       "version_major": 2,
       "version_minor": 0
      },
      "text/plain": [
       "Downloading model.safetensors:   0%|          | 0.00/1.12G [00:00<?, ?B/s]"
      ]
     },
     "metadata": {},
     "output_type": "display_data"
    },
    {
     "name": "stderr",
     "output_type": "stream",
     "text": [
      "Some weights of the model checkpoint at FacebookAI/xlm-roberta-base were not used when initializing XLMRobertaForMaskedLM: ['roberta.pooler.dense.bias', 'roberta.pooler.dense.weight']\n",
      "- This IS expected if you are initializing XLMRobertaForMaskedLM from the checkpoint of a model trained on another task or with another architecture (e.g. initializing a BertForSequenceClassification model from a BertForPreTraining model).\n",
      "- This IS NOT expected if you are initializing XLMRobertaForMaskedLM from the checkpoint of a model that you expect to be exactly identical (initializing a BertForSequenceClassification model from a BertForSequenceClassification model).\n",
      "C:\\Anaconda\\Lib\\site-packages\\transformers\\optimization.py:411: FutureWarning: This implementation of AdamW is deprecated and will be removed in a future version. Use the PyTorch implementation torch.optim.AdamW instead, or set `no_deprecation_warning=True` to disable this warning\n",
      "  warnings.warn(\n"
     ]
    },
    {
     "name": "stdout",
     "output_type": "stream",
     "text": [
      "Fold 1/5\n",
      "Length of self.semantic_roles: 476\n",
      "Range of indices: range(0, 476)\n",
      "Length of self.semantic_roles: 476\n",
      "Range of indices: range(0, 476)\n",
      "Epoch 1, Validation Accuracy: 0.8033613445378152\n",
      "Epoch 2, Validation Accuracy: 0.8346218487394959\n",
      "Epoch 3, Validation Accuracy: 0.852436974789916\n",
      "Epoch 4, Validation Accuracy: 0.8436974789915966\n",
      "Epoch 5, Validation Accuracy: 0.8342857142857143\n",
      "Fold 2/5\n",
      "Length of self.semantic_roles: 476\n",
      "Range of indices: range(0, 476)\n",
      "Length of self.semantic_roles: 476\n",
      "Range of indices: range(0, 476)\n",
      "Epoch 1, Validation Accuracy: 0.8544537815126051\n",
      "Epoch 2, Validation Accuracy: 0.8594957983193278\n",
      "Epoch 3, Validation Accuracy: 0.8484033613445379\n",
      "Epoch 4, Validation Accuracy: 0.8534453781512605\n",
      "Epoch 5, Validation Accuracy: 0.8490756302521009\n",
      "Fold 3/5\n",
      "Length of self.semantic_roles: 476\n",
      "Range of indices: range(0, 476)\n",
      "Length of self.semantic_roles: 476\n",
      "Range of indices: range(0, 476)\n",
      "Epoch 1, Validation Accuracy: 0.8389915966386554\n",
      "Epoch 2, Validation Accuracy: 0.8413445378151261\n",
      "Epoch 3, Validation Accuracy: 0.8403361344537815\n",
      "Epoch 4, Validation Accuracy: 0.8416806722689075\n",
      "Epoch 5, Validation Accuracy: 0.8447058823529412\n",
      "Fold 4/5\n",
      "Length of self.semantic_roles: 476\n",
      "Range of indices: range(0, 476)\n",
      "Length of self.semantic_roles: 476\n",
      "Range of indices: range(0, 476)\n",
      "Epoch 1, Validation Accuracy: 0.8436974789915966\n",
      "Epoch 2, Validation Accuracy: 0.8463865546218488\n",
      "Epoch 3, Validation Accuracy: 0.8440336134453782\n",
      "Epoch 4, Validation Accuracy: 0.8403361344537815\n",
      "Epoch 5, Validation Accuracy: 0.8440336134453782\n",
      "Fold 5/5\n",
      "Length of self.semantic_roles: 476\n",
      "Range of indices: range(0, 476)\n",
      "Length of self.semantic_roles: 476\n",
      "Range of indices: range(0, 476)\n",
      "Epoch 1, Validation Accuracy: 0.8299159663865546\n",
      "Epoch 2, Validation Accuracy: 0.8305882352941176\n",
      "Epoch 3, Validation Accuracy: 0.8292436974789916\n",
      "Epoch 4, Validation Accuracy: 0.8295798319327731\n",
      "Epoch 5, Validation Accuracy: 0.8198319327731093\n",
      "Model trained\n"
     ]
    }
   ],
   "source": [
    "from transformers import BertForTokenClassification, AdamW\n",
    "from torch.nn.utils import clip_grad_norm_\n",
    "from sklearn.model_selection import StratifiedKFold\n",
    "from sklearn.metrics import accuracy_score\n",
    "from transformers import BertTokenizer, BertForTokenClassification, AdamW\n",
    "from torch.nn.utils import clip_grad_norm_\n",
    "from torch.utils.data import DataLoader\n",
    "from sklearn.preprocessing import LabelEncoder\n",
    "import torch\n",
    "import torch.nn.functional as F\n",
    "from torch.nn.utils.rnn import pad_sequence\n",
    "from torch.utils.data import Dataset\n",
    "from transformers import BertForTokenClassification\n",
    "from sklearn.preprocessing import MultiLabelBinarizer\n",
    "from sklearn.model_selection import KFold\n",
    "\n",
    "# Number of folds\n",
    "k_folds = 5\n",
    "kf = KFold(n_splits=k_folds, shuffle=True, random_state=42)\n",
    "\n",
    "# Convert 'semantic_roles' to a binary array\n",
    "mlb = MultiLabelBinarizer()\n",
    "binary_labels = mlb.fit_transform(train_df['semantic_roles'])\n",
    "\n",
    "\n",
    "model = AutoModelForMaskedLM.from_pretrained(\"FacebookAI/xlm-roberta-base\", num_labels = num_labels)\n",
    "LEARNING_RATE = 2e-5\n",
    "NUM_EPOCHS = 5\n",
    "optimizer = AdamW(model.parameters(), lr=LEARNING_RATE)\n",
    "\n",
    "for fold, (train_index, val_index) in enumerate(kf.split(train_tokens, binary_labels)):\n",
    "    print(f\"Fold {fold + 1}/{k_folds}\")\n",
    "\n",
    "    # Split the data into train and validation sets for this fold\n",
    "    train_fold_tokens = [train_tokens[i] for i in train_index]\n",
    "    train_fold_labels = [binary_labels[i] for i in train_index]\n",
    "\n",
    "    val_fold_tokens = [train_tokens[i] for i in val_index]\n",
    "    val_fold_labels = [binary_labels[i] for i in train_index]\n",
    "\n",
    "    # Create datasets and data loaders for this fold\n",
    "    train_fold_dataset = SRLDataset(train_fold_tokens, train_fold_labels)\n",
    "    val_fold_dataset = SRLDataset(val_fold_tokens, val_fold_labels)\n",
    "\n",
    "    train_fold_loader = DataLoader(train_fold_dataset, batch_size=BATCH_SIZE, shuffle=True, collate_fn=collate_fn)\n",
    "    val_fold_loader = DataLoader(val_fold_dataset, batch_size=BATCH_SIZE, shuffle=False, collate_fn=collate_fn)\n",
    "\n",
    "    # Train the model for NUM_EPOCHS\n",
    "    for epoch in range(NUM_EPOCHS):\n",
    "        model.train()\n",
    "        for batch_idx, batch in enumerate(train_fold_loader):\n",
    "            inputs = batch['input_ids']\n",
    "            attention_mask = batch['attention_mask']\n",
    "            labels = batch['semantic_roles']\n",
    "\n",
    "            optimizer.zero_grad()\n",
    "\n",
    "            outputs = model(input_ids=inputs.squeeze(1), attention_mask=attention_mask, labels=labels)\n",
    "            loss = outputs.loss\n",
    "            loss.backward()\n",
    "\n",
    "            # Gradient clipping\n",
    "            clip_grad_norm_(model.parameters(), 1.0)\n",
    "\n",
    "            optimizer.step()\n",
    "\n",
    "        # Evaluate on the validation set after each epoch\n",
    "        model.eval()\n",
    "        val_predictions = []\n",
    "        val_true_labels = []\n",
    "\n",
    "        with torch.no_grad():\n",
    "            for val_batch in val_fold_loader:\n",
    "                val_inputs = val_batch['input_ids']\n",
    "                val_attention_mask = val_batch['attention_mask']\n",
    "                val_labels = val_batch['semantic_roles']\n",
    "\n",
    "                val_outputs = model(input_ids=val_inputs.squeeze(1), attention_mask=val_attention_mask)\n",
    "                logits = val_outputs.logits\n",
    "\n",
    "                # Convert logits to predictions\n",
    "                predictions = torch.argmax(F.log_softmax(logits, dim=2), dim=2)\n",
    "\n",
    "                val_predictions.extend(predictions.tolist())\n",
    "                val_true_labels.extend(val_labels.tolist())\n",
    "\n",
    "        # Flatten the predictions and true labels for evaluation\n",
    "        flat_val_predictions = [label for sublist in val_predictions for label in sublist]\n",
    "        flat_val_true_labels = [label for sublist in val_true_labels for label in sublist]\n",
    "\n",
    "        val_accuracy = accuracy_score(flat_val_true_labels, flat_val_predictions)\n",
    "        print(f\"Epoch {epoch + 1}, Validation Accuracy: {val_accuracy}\")\n",
    "\n",
    "# Save the trained model\n",
    "model.save_pretrained(r\"C:\\Users\\bpsad\\Desktop\\TRAIN_DATA_PULLED\")\n",
    "print(\"Model trained\")"
   ]
  },
  {
   "cell_type": "code",
   "execution_count": null,
   "id": "3ce3859d",
   "metadata": {},
   "outputs": [],
   "source": []
  }
 ],
 "metadata": {
  "kernelspec": {
   "display_name": "Python 3 (ipykernel)",
   "language": "python",
   "name": "python3"
  },
  "language_info": {
   "codemirror_mode": {
    "name": "ipython",
    "version": 3
   },
   "file_extension": ".py",
   "mimetype": "text/x-python",
   "name": "python",
   "nbconvert_exporter": "python",
   "pygments_lexer": "ipython3",
   "version": "3.11.5"
  }
 },
 "nbformat": 4,
 "nbformat_minor": 5
}
